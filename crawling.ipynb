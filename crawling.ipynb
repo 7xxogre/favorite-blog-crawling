{
 "cells": [
  {
   "cell_type": "code",
   "execution_count": 1,
   "metadata": {},
   "outputs": [],
   "source": [
    "import requests\n",
    "from bs4 import BeautifulSoup as bs4\n",
    "from datetime import datetime"
   ]
  },
  {
   "cell_type": "code",
   "execution_count": 2,
   "metadata": {},
   "outputs": [
    {
     "name": "stdout",
     "output_type": "stream",
     "text": [
      "https://blog.firstpenguine.school/120 말하는 펭귄, 펭추리 서비스 오픈! 2023. 12. 13. 10:49\n",
      "https://blog.firstpenguine.school/119 LMM 환각을 해결해주는 딱따구리! Woodpecker 논문 리뷰! 2023. 11. 2. 00:25\n",
      "https://blog.firstpenguine.school/118 GPT4 이제 눈까지 떠버렸다👀 GPT-4V 논문 리뷰 2023. 10. 27. 08:28\n",
      "https://blog.firstpenguine.school/117 🧠 갈아먹는 딥러닝 기초 2023. 10. 26. 09:43\n",
      "https://blog.firstpenguine.school/116 🛢️ 갈아먹는 빅데이터 2023. 10. 26. 09:40\n",
      "https://blog.firstpenguine.school/115 📊 갈아먹는 통계학 2023. 10. 26. 09:35\n",
      "https://blog.firstpenguine.school/114 👇 갈아먹는 추천 알고리즘 2023. 10. 26. 09:30\n",
      "https://blog.firstpenguine.school/113 👁️ 갈아먹는 컴퓨터 비전 2023. 10. 26. 09:12\n"
     ]
    }
   ],
   "source": [
    "base_url = \"https://blog.firstpenguine.school\"\n",
    "res = requests.get(base_url + \"/category\").text\n",
    "soup = bs4(res, \"html.parser\")\n",
    "posts = soup.find_all(attrs={\"class\": \"post-item\"})\n",
    "for elem in posts:\n",
    "    post_link = base_url + elem.find('a').get('href')\n",
    "    title = elem.find(\"span\", attrs={\"class\": \"title\"}).get_text()\n",
    "    soup_temp = bs4(requests.get(post_link).text, \"html.parser\")\n",
    "    date_str = soup_temp.find(\"span\", attrs={\"class\": \"date\"}).get_text()\n",
    "    print(post_link, title, date_str)"
   ]
  },
  {
   "cell_type": "code",
   "execution_count": 6,
   "metadata": {},
   "outputs": [
    {
     "name": "stdout",
     "output_type": "stream",
     "text": [
      "Mamba modeling의 기초 (1) - Linear State-Space Layer (LSSL)에 대하여 2024-02-01 00:00:00 https://junia3.github.io/blog/lssl\n",
      "DINOv2(Learning Robust Visual Features without Supervision) 논문 리뷰 2023-12-04 00:00:00 https://junia3.github.io/blog/dino2\n",
      "Github 프로필 리드미 작성하는 법 및 꾸미기 (feat. github readme snake) 2023-11-13 00:00:00 https://junia3.github.io/blog/githubreadme\n",
      "DINO(Emerging Properties in Self-Supervised Vision Transformers) 논문 리뷰 2023-11-12 00:00:00 https://junia3.github.io/blog/dino\n",
      "(LLama2) GPU에서 돌아가는 나만의 디스코드 챗봇 만들기 2023-09-24 00:00:00 https://junia3.github.io/blog/chatbotgpu\n",
      "OpenAI의 새로운 이미지 생성 모델, DALLE-3의 등장 2023-09-21 00:00:00 https://junia3.github.io/blog/dalle3\n",
      "(LLama2-cpp) CPU에서 돌아가는 나만의 디스코드 챗봇 만들기 2023-09-20 00:00:00 https://junia3.github.io/blog/chatbot\n",
      "특정 홈페이지에서 원하는 정보 크롤링하는 디스코드 봇 만들기 2023-09-17 00:00:00 https://junia3.github.io/blog/crawlerbot\n",
      "Continual learning/Lifelong learning의 개념과 방법론 총정리 2023-09-01 00:00:00 https://junia3.github.io/blog/continual\n",
      "MERU(Hyperbolic Image-Text Representations) 논문 리뷰 2023-07-12 00:00:00 https://junia3.github.io/blog/meru\n",
      "GLIDE(Towards Photorealistic Image Generation and Editing with Text-Guided Diffusion Models) 논문 및 코드 리뷰 2023-05-02 00:00:00 https://junia3.github.io/blog/glide\n",
      "ControlNet 논문 이해하기 및 사용해보기 2023-05-01 00:00:00 https://junia3.github.io/blog/controlnet\n",
      "Improved DDPM + Diffusion beats GAN + Classifier free diffusion guidance 논문 리뷰 2023-04-30 00:00:00 https://junia3.github.io/blog/diffusionpapers\n",
      "Consistency models 논문 리뷰 2023-04-26 00:00:00 https://junia3.github.io/blog/consistency\n",
      "Score-based generative modeling through stochastic differential equations 이해하기 2023-04-22 00:00:00 https://junia3.github.io/blog/scoresde\n",
      "DDIM(Denoising Diffusion Implicit Models) 이해하기 2023-04-20 00:00:00 https://junia3.github.io/blog/ddim\n",
      "DDPM 수식 증명만 죄다 조져버리기 2023-04-02 00:00:00 https://junia3.github.io/blog/DDPMproof\n",
      "Parameter-free Online Test-time adaptation 논문 리뷰 2023-03-28 00:00:00 https://junia3.github.io/blog/parameterfree\n",
      "ChatGPT(챗지피티)가 사람같이 자연스럽게 말할 수 있는 이유는!? RLHF 학습법에 대하여 2023-03-25 00:00:00 https://junia3.github.io/blog/RLHF\n",
      "Contrastive test time adaptation 논문 리뷰 2023-03-24 00:00:00 https://junia3.github.io/blog/ContrastiveTTA\n",
      "TENT, Continual test-time adaptation(CoTTA) 논문 리뷰 2023-03-14 00:00:00 https://junia3.github.io/blog/tent\n",
      "CoCa - Contrastive Captioners are Image-Text Foundation Models 논문 리뷰 2023-03-01 00:00:00 https://junia3.github.io/blog/CoCa\n",
      "딥러닝의 체계를 바꾼다! The Forward-Forward Algorithm 논문 리뷰 (2) 2023-02-27 00:00:00 https://junia3.github.io/blog/ffalgorithm2\n",
      "딥러닝의 체계를 바꾼다! The Forward-Forward Algorithm 논문 리뷰 (1) 2023-02-22 00:00:00 https://junia3.github.io/blog/ffalgorithm\n",
      "깃허브 블로그를 구글 검색 엔진에 등록했지만 검색이 안된다면? 2023-02-20 00:00:00 https://junia3.github.io/blog/searcherror\n",
      "스크롤 내릴 때 페이지 상단에 가로축으로 내려온 정도(퍼센트) 표시하기 2023-02-20 00:00:00 https://junia3.github.io/blog/scrollpercent\n",
      "Prompt learning in Vision-Language(CoOp, CoCoOp) 논문 리뷰 2023-02-19 00:00:00 https://junia3.github.io/blog/CoOp\n",
      "Bootstrapping Language-Image Pre-training(BLIP, BLIP2) 논문 리뷰 2023-02-14 00:00:00 https://junia3.github.io/blog/BLIP\n",
      "Zero-shot Text-Guided Object Generation with Dream Fields에 대하여 2023-02-07 00:00:00 https://junia3.github.io/blog/dreamfield\n",
      "마크다운 파일을 notion으로 업로드하기 2023-01-30 00:00:00 https://junia3.github.io/blog/md2notion\n",
      "(StyleCLIP, StyleGAN-NADA) CLIP based image manipulation에 대하여 2023-01-29 00:00:00 https://junia3.github.io/blog/styleclip+styleganada\n",
      "MaskCLIP 논문 리뷰 2023-01-24 00:00:00 https://junia3.github.io/blog/maskclip\n",
      "CLIP(Learning transferable visual models from natural language supervision)에 대하여 2023-01-22 00:00:00 https://junia3.github.io/blog/clip\n",
      "Github blog 코드 블럭 하이라이트 적용해보기 2023-01-06 00:00:00 https://junia3.github.io/blog/codeblock\n",
      "Pytorch 2.0에서 어떤 점이 변했을까?? 2023-01-05 00:00:00 https://junia3.github.io/blog/pytorch2\n",
      "About GAN supervsed alignment(GAN-gealing) 2023-01-01 00:00:00 https://junia3.github.io/blog/gangeal\n",
      "Transformer와 Multimodal에 대하여 2022-12-21 00:00:00 https://junia3.github.io/blog/trnmultimodal\n",
      "Low shot learning에 대하여 2022-12-20 00:00:00 https://junia3.github.io/blog/lowshot\n",
      "Mathjax 수식 입력 시 렌더링이 안될 경우 2022-12-19 00:00:00 https://junia3.github.io/blog/mathjaxerror\n",
      "다양한 Deep learning 학습법 2022-12-18 00:00:00 https://junia3.github.io/blog/transfer\n",
      "그래프를 활용한 neural network 2022-12-17 00:00:00 https://junia3.github.io/blog/graphnn\n",
      "카테고리별 다른 게시물 추천하기(이전글, 다음글) 2022-12-16 00:00:00 https://junia3.github.io/blog/nextprev\n",
      "홈페이지 로딩창 구현하기 2022-12-16 00:00:00 https://junia3.github.io/blog/loading\n",
      "프로필에 텍스트 애니메이션 적용한 소개 단락 만들기 2022-12-14 00:00:00 https://junia3.github.io/blog/intro\n",
      "스크롤 내릴 때 컨텐츠 fade out(페이드 아웃) 구현하기 2022-12-13 00:00:00 https://junia3.github.io/blog/fadeoutcard\n",
      "github.io 검색 엔진(구글/네이버/다음)에 노출시키기 2022-12-12 00:00:00 https://junia3.github.io/blog/search\n",
      "GAN을 활용한 이미지 조작(image to image 그리고 GAN inversion까지) 2022-12-12 00:00:00 https://junia3.github.io/blog/imagemanipulate\n",
      "github.io 댓글 다크모드 적용 방법 2022-12-12 00:00:00 https://junia3.github.io/blog/commentdark\n",
      "GAN variations(DCGAN, CGAN, PGGAN and StyleGAN)에 대하여 2022-12-11 00:00:00 https://junia3.github.io/blog/gan2\n",
      "github.io 다크모드/라이트모드 (테마 밝기 조절) 만들기 2022-12-10 00:00:00 https://junia3.github.io/blog/darkmode\n",
      "Generative adversarial networks(GAN)에 대하여 2022-12-09 00:00:00 https://junia3.github.io/blog/gan\n",
      "About light weight CNNs(MobileNet 시리즈들) 2022-12-08 00:00:00 https://junia3.github.io/blog/light\n",
      "Efficient deep neural networks에 대하여 2022-12-08 00:00:00 https://junia3.github.io/blog/efficient\n",
      "github.io에 카테고리 기능 추가해보기 2022-12-08 00:00:00 https://junia3.github.io/blog/category\n",
      "MixMatch-A holistic approach to semi-supervised learning에 대하여 2022-12-07 00:00:00 https://junia3.github.io/blog/mixmatchpaper\n",
      "github.io에 마크다운 작성 및 수식 입력하기 2022-12-07 00:00:00 https://junia3.github.io/blog/markdown\n",
      "NSVF-Neural Sparse Voxel Fields에 대해서 2022-12-06 00:00:00 https://junia3.github.io/blog/nsvf\n",
      "NeRF-Representing Scene as Neural Radiance Fields for View Synthesis에 대해서 2022-12-05 00:00:00 https://junia3.github.io/blog/nerf\n",
      "Simple explanation of NCE(Noise Contrastive Estimation) and InfoNCE 2022-12-02 00:00:00 https://junia3.github.io/blog/InfoNCEpaper\n",
      "Denoising diffusion probabilistic model에 대해서 2022-11-28 00:00:00 https://junia3.github.io/blog/DDPM\n",
      "Variational autoencoder에 대해서 2022-11-24 00:00:00 https://junia3.github.io/blog/VAE\n",
      "LaTex 자주 쓰는 수식 및 심볼 정리 2022-11-16 00:00:00 https://junia3.github.io/blog/latex_symbols\n",
      "cs231n 내용 요약 (10) - Visualizing, Transfer learning 2022-11-11 00:00:00 https://junia3.github.io/blog/cs231n10\n",
      "cs231n 내용 요약 (9) - CNN(Convolutional neural network) 2022-11-10 00:00:00 https://junia3.github.io/blog/cs231n09\n",
      "cs231n 내용 요약 (8) - Learning and evaluation 2022-11-09 00:00:00 https://junia3.github.io/blog/cs231n08\n",
      "cs231n 내용 요약 (7) - Regularization, Loss function 2022-11-08 00:00:00 https://junia3.github.io/blog/cs231n07\n",
      "cs231n 내용 요약 (6) - Data preprocessing, Weight initialization, Batch Normalization 2022-11-07 00:00:00 https://junia3.github.io/blog/cs231n06\n",
      "cs231n 내용 요약 (5) - Neural Network 2022-11-06 00:00:00 https://junia3.github.io/blog/cs231n05\n",
      "cs231n 내용 요약 (4) - Backpropagation 2022-11-05 00:00:00 https://junia3.github.io/blog/cs231n04\n",
      "cs231n 내용 요약 (3) - Optimization(최적화) 2022-11-04 00:00:00 https://junia3.github.io/blog/cs231n03\n",
      "cs231n 내용 요약 (2) - Linear classification 2022-11-03 00:00:00 https://junia3.github.io/blog/cs231n02\n",
      "cs231n 내용 요약 (1) - Image classification 2022-11-02 00:00:00 https://junia3.github.io/blog/cs231n01\n",
      "cs231n 내용 요약 (0) - What is deep learning? 2022-11-01 00:00:00 https://junia3.github.io/blog/cs231n00\n"
     ]
    }
   ],
   "source": [
    "# 웹페이지로부터 HTML을 가져옵니다.\n",
    "res = requests.get(\"https://junia3.github.io/blog\").text\n",
    "\n",
    "# BeautifulSoup 객체를 생성합니다.\n",
    "soup = bs4(res, \"html.parser\")\n",
    "\n",
    "# 특정 ID를 가진 요소를 찾습니다.\n",
    "element_by_name = soup.find_all(\"div\", attrs={\"name\": \"blogcards\"})\n",
    "\n",
    "jy_blog_content_lst = []\n",
    "for elem in element_by_name:\n",
    "    link = elem.find('a').get('href')\n",
    "    # title = elem.find('h1', class_='title is-size-4-touch').get_text()\n",
    "    title = elem.find('h1', attrs={\"class\": \"title is-size-4-touch\"}).get_text()\n",
    "    date_str = elem.find('span', attrs={\"class\": \"has-text-weight-semibold\"}).get_text()\n",
    "    date = datetime.strptime(date_str, \"%B %d, %Y\")\n",
    "    print(title, date, link)"
   ]
  },
  {
   "cell_type": "code",
   "execution_count": 12,
   "metadata": {},
   "outputs": [
    {
     "name": "stdout",
     "output_type": "stream",
     "text": [
      "https://kciter.so//posts/warp-and-weft/ 씨줄과 날줄 2024-05-17 00:00:00\n",
      "https://kciter.so//posts/the-shortcut/ 기계의 반칙 2024-05-10 00:00:00\n",
      "https://kciter.so//posts/living-with-ai/ AI와 더불어 살아가기 2024-04-26 00:00:00\n",
      "https://kciter.so//posts/encrypted-vault-system/ 비밀 관리를 위한 금고 시스템 만들기 2024-04-14 00:00:00\n",
      "https://kciter.so//posts/principles-of-debugging/ 디버깅 원칙 2024-03-16 00:00:00\n",
      "https://kciter.so//posts/ascii-3d-renderer/ ASCII 3D 렌더러 만들기 2024-03-03 00:00:00\n",
      "https://kciter.so//posts/render-delegation-react-component/ Render Delegation하는 React 컴포넌트 만들기 2024-02-18 00:00:00\n",
      "https://kciter.so//posts/type-driven-development/ Type-Driven Development 2024-01-21 00:00:00\n",
      "https://kciter.so//posts/developers-learning-and-growth/ 개발자의 학습과 성장 2023-12-24 00:00:00\n"
     ]
    }
   ],
   "source": [
    "base_url = \"https://kciter.so/\"\n",
    "res = requests.get(base_url).text\n",
    "soup = bs4(res, \"html.parser\")\n",
    "posts = soup.find_all(attrs={\"class\": \"css-zhckuc e349bdu1\"})\n",
    "for elem in posts:\n",
    "    post_link = base_url + elem.get('href')\n",
    "    title = elem.find(\"div\").get_text()\n",
    "    date_str = elem.find('small').get_text()\n",
    "    date = datetime.strptime(date_str, \"%Y-%m-%d\")\n",
    "    print(post_link, title,  date)"
   ]
  },
  {
   "cell_type": "code",
   "execution_count": 19,
   "metadata": {},
   "outputs": [
    {
     "name": "stdout",
     "output_type": "stream",
     "text": [
      "https://parksb.github.io/./article/42.html 스마트폰을 PC의 모션 컨트롤러로 만들기: 2024-01-23 00:00:00\n",
      "https://parksb.github.io/./article/41.html 아치 리눅스로 15년차 넷북 되살리기: 2023-09-12 00:00:00\n",
      "https://parksb.github.io/./article/40.html 함수형 프로그래밍의 설득력: 2022-11-21 00:00:00\n",
      "https://parksb.github.io/./article/39.html 철도 시간표가 유닉스 시간이 되기까지: 2022-02-22 00:00:00\n",
      "https://parksb.github.io/./article/38.html 🧱 Server Driven UI 설계를 통한 UI 유연화: 2021-07-09 00:00:00\n",
      "https://parksb.github.io/./article/37.html 읽기 쉬운 웹을 위한 타이포그래피: 2021-01-13 00:00:00\n",
      "https://parksb.github.io/./article/36.html 인터넷이 동작하는 아주 구체적인 원리: 2020-01-27 00:00:00\n",
      "https://parksb.github.io/./article/35.html 🦀 러스트의 멋짐을 모르는 당신은 불쌍해요: 2019-11-29 00:00:00\n",
      "https://parksb.github.io/./article/34.html 🗞️ 훈련소에서 매일 뉴스 받아보기: 2019-09-30 00:00:00\n",
      "https://parksb.github.io/./article/33.html 해피 터미널 라이프: 2019-08-28 00:00:00\n",
      "https://parksb.github.io/./article/32.html 하지만, 야크 털 깎기는 재미있다: 2019-07-31 00:00:00\n",
      "https://parksb.github.io/./article/31.html 👻 CPU 보안 취약점을 공격하는 아주 구체적인 원리: 2019-06-02 00:00:00\n",
      "https://parksb.github.io/./article/30.html 하나의 타입에 강아지와 고양이 담기: 2019-05-12 00:00:00\n",
      "https://parksb.github.io/./article/29.html 💵 캐시가 동작하는 아주 구체적인 원리: 2019-03-30 00:00:00\n",
      "https://parksb.github.io/./article/28.html Git 사용 중 자주 만나는 이슈 정리: 2019-02-17 00:00:00\n",
      "https://parksb.github.io/./article/26.html 🎅 요정을 착취하는 방치형 게임 개발한 이야기: 2018-12-26 00:00:00\n",
      "https://parksb.github.io/./article/25.html 🤖 컴퓨터가 코드를 읽는 아주 구체적인 원리: 2018-10-16 00:00:00\n",
      "https://parksb.github.io/./article/24.html 🔐 HTTPS는 어떻게 다를까?: 2018-10-12 00:00:00\n",
      "https://parksb.github.io/./article/23.html 🌐 Top-Down으로 접근하는 네트워크: 2018-09-28 00:00:00\n",
      "https://parksb.github.io/./article/21.html 📡 WSL에서 SSH 서버 열기: 2018-09-08 00:00:00\n",
      "https://parksb.github.io/./article/20.html 윈도우즈에서 React Native 개발 환경 세팅하기: 2018-08-23 00:00:00\n",
      "https://parksb.github.io/./article/19.html 🐧 윈도우에서 우분투 돌리기: 2018-06-27 00:00:00\n",
      "https://parksb.github.io/./article/18.html 📊 파이썬으로 정리하는 Quick-Sort 2018-06-22 00:00:00\n",
      "https://parksb.github.io/./article/17.html Java Design Pattern: Singleton 2018-06-15 00:00:00\n",
      "https://parksb.github.io/./article/16.html Race condition 발생시키고 Mutex lock으로 해결하기 2018-06-11 00:00:00\n",
      "https://parksb.github.io/./article/15.html 🌞 개떡같은 코드와 함께한 하루 리뉴얼 이야기: 2018-06-01 00:00:00\n",
      "https://parksb.github.io/./article/14.html ES6 화살표 함수의 this에 관하여 2018-05-20 00:00:00\n",
      "https://parksb.github.io/./article/13.html 🏕️ 오픈소스 입문을 위한 아주 구체적인 가이드 2018-05-06 00:00:00\n",
      "https://parksb.github.io/./article/12.html 🦕 공룡책으로 정리하는 운영체제 Ch.8: 2018-05-04 00:00:00\n",
      "https://parksb.github.io/./article/11.html 🦕 공룡책으로 정리하는 운영체제 Ch.7: 2018-05-04 00:00:00\n",
      "https://parksb.github.io/./article/10.html 🦕 공룡책으로 정리하는 운영체제 Ch.6: 2018-05-04 00:00:00\n",
      "https://parksb.github.io/./article/9.html 🦕 공룡책으로 정리하는 운영체제 Ch.5: 2018-05-03 00:00:00\n",
      "https://parksb.github.io/./article/8.html 🦕 공룡책으로 정리하는 운영체제 Ch.4: 2018-05-03 00:00:00\n",
      "https://parksb.github.io/./article/7.html 🦕 공룡책으로 정리하는 운영체제 Ch.3: 2018-05-03 00:00:00\n",
      "https://parksb.github.io/./article/6.html 🦕 공룡책으로 정리하는 운영체제 Ch.2: 2018-05-03 00:00:00\n",
      "https://parksb.github.io/./article/5.html 🦕 공룡책으로 정리하는 운영체제 Ch.1: 2018-05-03 00:00:00\n",
      "https://parksb.github.io/./article/4.html 차이를 중심으로 살펴본 UI디자인과 UX디자인: 2018-05-02 00:00:00\n",
      "https://parksb.github.io/./article/3.html 프로세스간 통신을 활용해 프로그래밍하기: 2018-05-01 00:00:00\n",
      "https://parksb.github.io/./article/2.html ♻️ 자바는 어떻게 Garbage Collection을 할까?: 2018-04-23 00:00:00\n",
      "https://parksb.github.io/./article/1.html ES6와 함께 JavaScript로 OOP하기: 2018-04-15 00:00:00\n",
      "https://parksb.github.io/./article/0.html 📋 프론트엔드 개발자를 위한 토막상식 2018-02-02 00:00:00\n"
     ]
    }
   ],
   "source": [
    "base_url = \"https://parksb.github.io/\"\n",
    "res = requests.get(base_url + \"articles.html\").text\n",
    "soup = bs4(res, \"html.parser\")\n",
    "posts = soup.find_all('li')\n",
    "for elem in posts:\n",
    "    try:\n",
    "        post_link = base_url + elem.find('a').get('href')\n",
    "        title = elem.find(\"span\", attrs={'class', 'heading'}).get_text()\n",
    "        date_str = elem.find('time').get_text()\n",
    "        date = datetime.strptime(date_str, \"%Y.%m.%d\")\n",
    "        print(post_link, title,  date)\n",
    "    except Exception as e:\n",
    "        pass"
   ]
  },
  {
   "cell_type": "code",
   "execution_count": 15,
   "metadata": {},
   "outputs": [
    {
     "data": {
      "text/plain": [
       "'/'"
      ]
     },
     "execution_count": 15,
     "metadata": {},
     "output_type": "execute_result"
    }
   ],
   "source": [
    "elem.find('a').get('href')"
   ]
  },
  {
   "cell_type": "code",
   "execution_count": null,
   "metadata": {},
   "outputs": [],
   "source": []
  }
 ],
 "metadata": {
  "kernelspec": {
   "display_name": "venv",
   "language": "python",
   "name": "python3"
  },
  "language_info": {
   "codemirror_mode": {
    "name": "ipython",
    "version": 3
   },
   "file_extension": ".py",
   "mimetype": "text/x-python",
   "name": "python",
   "nbconvert_exporter": "python",
   "pygments_lexer": "ipython3",
   "version": "3.12.2"
  }
 },
 "nbformat": 4,
 "nbformat_minor": 2
}
