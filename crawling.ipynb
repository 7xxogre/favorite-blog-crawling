{
 "cells": [
  {
   "cell_type": "code",
   "execution_count": 43,
   "metadata": {},
   "outputs": [
    {
     "name": "stdout",
     "output_type": "stream",
     "text": [
      "https://blog.firstpenguine.school/120 말하는 펭귄, 펭추리 서비스 오픈! 2023. 12. 13. 10:49\n",
      "https://blog.firstpenguine.school/119 LMM 환각을 해결해주는 딱따구리! Woodpecker 논문 리뷰! 2023. 11. 2. 00:25\n",
      "https://blog.firstpenguine.school/118 GPT4 이제 눈까지 떠버렸다👀 GPT-4V 논문 리뷰 2023. 10. 27. 08:28\n",
      "https://blog.firstpenguine.school/117 🧠 갈아먹는 딥러닝 기초 2023. 10. 26. 09:43\n",
      "https://blog.firstpenguine.school/116 🛢️ 갈아먹는 빅데이터 2023. 10. 26. 09:40\n",
      "https://blog.firstpenguine.school/115 📊 갈아먹는 통계학 2023. 10. 26. 09:35\n",
      "https://blog.firstpenguine.school/114 👇 갈아먹는 추천 알고리즘 2023. 10. 26. 09:30\n",
      "https://blog.firstpenguine.school/113 👁️ 갈아먹는 컴퓨터 비전 2023. 10. 26. 09:12\n"
     ]
    }
   ],
   "source": [
    "import requests\n",
    "from bs4 import BeautifulSoup as bs4\n",
    "from datetime import datetime\n",
    "base_url = \"https://blog.firstpenguine.school\"\n",
    "res = requests.get(base_url + \"/category\").text\n",
    "soup = bs4(res, \"html.parser\")\n",
    "posts = soup.find_all(attrs={\"class\": \"post-item\"})\n",
    "for elem in posts:\n",
    "    post_link = base_url + elem.find('a').get('href')\n",
    "    title = elem.find('span', class_='title').get_text()\n",
    "    soup_temp = bs4(requests.get(post_link).text, \"html.parser\")\n",
    "    date_str = soup_temp.find(\"span\", class_=\"date\").text\n",
    "    print(post_link, title, date_str)"
   ]
  },
  {
   "cell_type": "code",
   "execution_count": null,
   "metadata": {},
   "outputs": [],
   "source": []
  }
 ],
 "metadata": {
  "kernelspec": {
   "display_name": "venv",
   "language": "python",
   "name": "python3"
  },
  "language_info": {
   "codemirror_mode": {
    "name": "ipython",
    "version": 3
   },
   "file_extension": ".py",
   "mimetype": "text/x-python",
   "name": "python",
   "nbconvert_exporter": "python",
   "pygments_lexer": "ipython3",
   "version": "3.12.2"
  }
 },
 "nbformat": 4,
 "nbformat_minor": 2
}
